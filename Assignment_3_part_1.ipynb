{
 "cells": [
  {
   "cell_type": "code",
   "execution_count": 1,
   "id": "a7f30bcb",
   "metadata": {},
   "outputs": [
    {
     "name": "stdout",
     "output_type": "stream",
     "text": [
      "Twinkle, twinkle, little star, \n",
      "\tHow I wonder what you are! \n",
      "\t\tUp above the world so high, \n",
      "\t\tLike a diamond in the sky. \n",
      "Twinkle, twinkle, little star, \n",
      "\tHow I wonder what you are!\n"
     ]
    }
   ],
   "source": [
    "print(\"Twinkle, twinkle, little star, \\n\\tHow I wonder what you are! \\n\\t\\tUp above the world so high, \\n\\t\\tLike a diamond in the sky. \\nTwinkle, twinkle, little star, \\n\\tHow I wonder what you are!\")"
   ]
  },
  {
   "cell_type": "code",
   "execution_count": null,
   "id": "f9c97c81",
   "metadata": {},
   "outputs": [],
   "source": [
    "import sys"
   ]
  },
  {
   "cell_type": "code",
   "execution_count": 14,
   "id": "8c5856ac",
   "metadata": {},
   "outputs": [
    {
     "data": {
      "text/plain": [
       "'3.8.8 (default, Apr 13 2021, 15:08:03) [MSC v.1916 64 bit (AMD64)]'"
      ]
     },
     "execution_count": 14,
     "metadata": {},
     "output_type": "execute_result"
    }
   ],
   "source": [
    "sys.version"
   ]
  },
  {
   "cell_type": "code",
   "execution_count": 19,
   "id": "1e24b232",
   "metadata": {
    "scrolled": true
   },
   "outputs": [
    {
     "name": "stdout",
     "output_type": "stream",
     "text": [
      "Current date and time : \n",
      "2021-10-24 16:05:44\n"
     ]
    }
   ],
   "source": [
    "import datetime\n",
    "now = datetime.datetime.now()\n",
    "print(\"Current date and time : \")\n",
    "print (now.strftime(\"%Y-%m-%d %H:%M:\"))"
   ]
  },
  {
   "cell_type": "code",
   "execution_count": 25,
   "id": "f564f03c",
   "metadata": {},
   "outputs": [
    {
     "name": "stdout",
     "output_type": "stream",
     "text": [
      "Input the radius of the circle : 5\n",
      "The area of the circle with radius5.0is: 78.53981633974483\n"
     ]
    }
   ],
   "source": [
    "from math import pi\n",
    "r = float(input(\"Input the radius of the circle : \"))\n",
    "print (\"The area of the circle with radius\" + str(r) + \"is: \" + str(pi * r**2))"
   ]
  },
  {
   "cell_type": "code",
   "execution_count": 2,
   "id": "f8feada7",
   "metadata": {},
   "outputs": [
    {
     "name": "stdout",
     "output_type": "stream",
     "text": [
      "Marks In English:88\n",
      "Marks In Mathematics:96\n",
      "Marks In Physics:82\n",
      "Marks In Chemistry:89\n",
      "Marks In Computer Science:95\n",
      "Your Marks In Percentage Is 90.0 %\n",
      "You have passed!\n"
     ]
    }
   ],
   "source": [
    "a=int(input(\"Marks In English:\")) \n",
    "b=int(input(\"Marks In Mathematics:\")) \n",
    "c=int(input(\"Marks In Physics:\")) \n",
    "d=int(input(\"Marks In Chemistry:\")) \n",
    "e=int(input(\"Marks In Computer Science:\")) \n",
    " \n",
    "f=(a+b+c+d+e)*100/500 \n",
    "print(\"Your Marks In Percentage Is\",f,\"%\") \n",
    " \n",
    "if f>=33: \n",
    "\tprint('You have passed!') \n",
    "else: \n",
    "\tprint('You have failed')"
   ]
  },
  {
   "cell_type": "code",
   "execution_count": null,
   "id": "cb3880eb",
   "metadata": {},
   "outputs": [],
   "source": []
  }
 ],
 "metadata": {
  "kernelspec": {
   "display_name": "Python 3",
   "language": "python",
   "name": "python3"
  },
  "language_info": {
   "codemirror_mode": {
    "name": "ipython",
    "version": 3
   },
   "file_extension": ".py",
   "mimetype": "text/x-python",
   "name": "python",
   "nbconvert_exporter": "python",
   "pygments_lexer": "ipython3",
   "version": "3.8.8"
  }
 },
 "nbformat": 4,
 "nbformat_minor": 5
}
